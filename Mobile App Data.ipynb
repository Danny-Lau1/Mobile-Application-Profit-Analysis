{
 "cells": [
  {
   "cell_type": "markdown",
   "id": "a348d622",
   "metadata": {},
   "source": [
    "# -- Insight into Profitable Apps --\n",
    "\n",
    "The purpose of this project is two-fold. The first is to help deepen my understanding of data analysis. The second is to familiarize myself with the Jupyter Notebook environment.\n",
    "\n",
    "In this project, I take mobile app data and provide insight into its relationship with users and revenue. By ingesting this data and providing an analysis, I hope to draw some conclusions and provide a service for those who can benefit from this information."
   ]
  },
  {
   "cell_type": "code",
   "execution_count": 1,
   "id": "8c3cf4dc",
   "metadata": {},
   "outputs": [],
   "source": [
    "# imports\n",
    "import csv\n",
    "\n",
    "# open up AppleStore.csv \n",
    "apple_store_open_file = open('AppleStore.csv')\n",
    "apple_store_read_file = csv.reader(apple_store_open_file) \n",
    "apple_store_data_csv = list(apple_store_read_file) # store everything as a list of lists\n",
    "apple_store_header = apple_store_data_csv[0]\n",
    "apple_store_data = apple_store_data_csv[1:]\n"
   ]
  },
  {
   "cell_type": "code",
   "execution_count": 2,
   "id": "3ebfd66c",
   "metadata": {},
   "outputs": [],
   "source": [
    "# open up googleplaystore.csv\n",
    "google_play_open_file = open('googleplaystore.csv')\n",
    "google_play_read_file = csv.reader(google_play_open_file)\n",
    "google_play_data_csv = list(google_play_read_file) # store everything as a list of lists\n",
    "google_play_header = google_play_data_csv[0]\n",
    "google_play_data = google_play_data_csv[1:]\n"
   ]
  },
  {
   "cell_type": "code",
   "execution_count": 3,
   "id": "9a3ffdac",
   "metadata": {},
   "outputs": [],
   "source": [
    "# Function to look through datasets and print out number of rows and columns\n",
    "def explore_data(dataset, start, end, rows_and_columns=False):\n",
    "    dataset_slice =   dataset[start:end]    \n",
    "    for row in dataset_slice:\n",
    "        print(row)\n",
    "        print('\\n') # adds a new (empty) line after each row\n",
    "\n",
    "    if rows_and_columns:\n",
    "        print('Number of rows:', len(dataset))\n",
    "        print('Number of columns:', len(dataset[0]))"
   ]
  },
  {
   "cell_type": "markdown",
   "id": "a9d87105",
   "metadata": {},
   "source": [
    "### Explore the Apple data"
   ]
  },
  {
   "cell_type": "code",
   "execution_count": 4,
   "id": "fc0ec8c9",
   "metadata": {},
   "outputs": [
    {
     "name": "stdout",
     "output_type": "stream",
     "text": [
      "['id', 'track_name', 'size_bytes', 'currency', 'price', 'rating_count_tot', 'rating_count_ver', 'user_rating', 'user_rating_ver', 'ver', 'cont_rating', 'prime_genre', 'sup_devices.num', 'ipadSc_urls.num', 'lang.num', 'vpp_lic']\n",
      "\n",
      "\n",
      "['284882215', 'Facebook', '389879808', 'USD', '0.0', '2974676', '212', '3.5', '3.5', '95.0', '4+', 'Social Networking', '37', '1', '29', '1']\n",
      "\n",
      "\n",
      "['389801252', 'Instagram', '113954816', 'USD', '0.0', '2161558', '1289', '4.5', '4.0', '10.23', '12+', 'Photo & Video', '37', '0', '29', '1']\n",
      "\n",
      "\n",
      "Number of rows: 7198\n",
      "Number of columns: 16\n"
     ]
    }
   ],
   "source": [
    "explore_data(apple_store_data_csv, 0, 3, True)"
   ]
  },
  {
   "cell_type": "markdown",
   "id": "269f48c4",
   "metadata": {},
   "source": [
    "### Explore the Google data"
   ]
  },
  {
   "cell_type": "code",
   "execution_count": 5,
   "id": "91646ce9",
   "metadata": {
    "scrolled": true
   },
   "outputs": [
    {
     "name": "stdout",
     "output_type": "stream",
     "text": [
      "['App', 'Category', 'Rating', 'Reviews', 'Size', 'Installs', 'Type', 'Price', 'Content Rating', 'Genres', 'Last Updated', 'Current Ver', 'Android Ver']\n",
      "\n",
      "\n",
      "['Photo Editor & Candy Camera & Grid & ScrapBook', 'ART_AND_DESIGN', '4.1', '159', '19M', '10,000+', 'Free', '0', 'Everyone', 'Art & Design', 'January 7, 2018', '1.0.0', '4.0.3 and up']\n",
      "\n",
      "\n",
      "['Coloring book moana', 'ART_AND_DESIGN', '3.9', '967', '14M', '500,000+', 'Free', '0', 'Everyone', 'Art & Design;Pretend Play', 'January 15, 2018', '2.0.0', '4.0.3 and up']\n",
      "\n",
      "\n",
      "Number of rows: 10842\n",
      "Number of columns: 13\n"
     ]
    }
   ],
   "source": [
    "explore_data(google_play_data_csv, 0, 3, True)"
   ]
  },
  {
   "cell_type": "markdown",
   "id": "8633597e",
   "metadata": {},
   "source": [
    "# -- Cleaning Data --"
   ]
  },
  {
   "cell_type": "markdown",
   "id": "97cdecd8",
   "metadata": {},
   "source": [
    "## -- Clean Inaccurate Data --"
   ]
  },
  {
   "cell_type": "markdown",
   "id": "2ffeecc2",
   "metadata": {},
   "source": [
    "For the following function, we can check to see if there are any rows of data that have a different number of columns than its respective header row. If a row of data has more or fewer columns than that of the header row, we can isolate the index number and delete it from the data set."
   ]
  },
  {
   "cell_type": "code",
   "execution_count": 6,
   "id": "5ab09fa3",
   "metadata": {},
   "outputs": [],
   "source": [
    "# checking to see which rows of data have more data points than header points\n",
    "def check_data_by_row_length(dataset, header):\n",
    "    for i, row in enumerate(dataset):\n",
    "        if len(row) != len(header):\n",
    "            print(f'row information = {row}')\n",
    "            print(f'index = {i}')\n",
    "            print('\\n')                    "
   ]
  },
  {
   "cell_type": "markdown",
   "id": "6a2deaf3",
   "metadata": {},
   "source": [
    "### Checking for inaccurate data for Apple"
   ]
  },
  {
   "cell_type": "code",
   "execution_count": 7,
   "id": "014ffda3",
   "metadata": {},
   "outputs": [],
   "source": [
    "check_data_by_row_length(apple_store_data, apple_store_header) "
   ]
  },
  {
   "cell_type": "markdown",
   "id": "f82da109",
   "metadata": {},
   "source": [
    "### Checking for inaccurate data for Google"
   ]
  },
  {
   "cell_type": "code",
   "execution_count": 8,
   "id": "65ac9448",
   "metadata": {},
   "outputs": [
    {
     "name": "stdout",
     "output_type": "stream",
     "text": [
      "row information = ['Life Made WI-Fi Touchscreen Photo Frame', '1.9', '19', '3.0M', '1,000+', 'Free', '0', 'Everyone', '', 'February 11, 2018', '1.0.19', '4.0 and up']\n",
      "index = 10472\n",
      "\n",
      "\n"
     ]
    }
   ],
   "source": [
    "check_data_by_row_length(google_play_data, google_play_header)"
   ]
  },
  {
   "cell_type": "code",
   "execution_count": 9,
   "id": "c8e04b73",
   "metadata": {},
   "outputs": [],
   "source": [
    "# we we see that there is one row in the Google data that has incorrect information. We can delete it\n",
    "del google_play_data[10472]"
   ]
  },
  {
   "cell_type": "markdown",
   "id": "0923e178",
   "metadata": {},
   "source": [
    "## -- Clean Data by Duplicate Entries --"
   ]
  },
  {
   "cell_type": "markdown",
   "id": "69697983",
   "metadata": {},
   "source": [
    "We can clean up data by checking for duplicate entries of apps. For the Apple Store data, we can check for duplicates by checking the id# of each app. Each app should have a unqiue id#. If there are any duplicate id#s, then there exists duplicate apps. "
   ]
  },
  {
   "cell_type": "markdown",
   "id": "da6fc838",
   "metadata": {},
   "source": [
    "### Check duplicate apps in Apple"
   ]
  },
  {
   "cell_type": "code",
   "execution_count": 10,
   "id": "5d62014a",
   "metadata": {},
   "outputs": [],
   "source": [
    "# Check for duplicate entires based on app_id\n",
    "\n",
    "def check_duplicate_id_apple(dataset):\n",
    "    unique_ids = []\n",
    "    unique_apps = []\n",
    "    duplicate_apps = []\n",
    "    for row in dataset:\n",
    "        app_id = row[0]\n",
    "        app_name = row[1]\n",
    "        if app_id not in unique_ids: # grabbing the app_id and app_name from the same row\n",
    "            unique_ids.append(app_id)\n",
    "            unique_apps.append(app_name)\n",
    "        else:\n",
    "            duplicate_apps.append(app_name)\n",
    "    print(f'- # of Duplicate Apps: {len(duplicate_apps)}') \n",
    "    print(f'- # of Unique Apps: {len(unique_apps)}')\n",
    "        "
   ]
  },
  {
   "cell_type": "code",
   "execution_count": 11,
   "id": "e2e71522",
   "metadata": {},
   "outputs": [
    {
     "name": "stdout",
     "output_type": "stream",
     "text": [
      "- # of Duplicate Apps: 0\n",
      "- # of Unique Apps: 7197\n"
     ]
    }
   ],
   "source": [
    "check_duplicate_id_apple(apple_store_data) \n",
    "# there are no duplicate unique ids in the apple dataset"
   ]
  },
  {
   "cell_type": "markdown",
   "id": "8e043529",
   "metadata": {},
   "source": [
    "### Check duplicate apps in Google"
   ]
  },
  {
   "cell_type": "markdown",
   "id": "d9e5c8ae",
   "metadata": {},
   "source": [
    "For the Google apps, I can check for duplicate apps by checking the names of apps because in this data set, apps should have unique names."
   ]
  },
  {
   "cell_type": "code",
   "execution_count": 12,
   "id": "d166b7cf",
   "metadata": {},
   "outputs": [],
   "source": [
    "def check_duplicate_name_google(dataset):\n",
    "    unique_apps = []\n",
    "    duplicate_apps = []\n",
    "    for row in dataset:\n",
    "        app_name = row[0]\n",
    "        if app_name not in unique_apps:\n",
    "            unique_apps.append(app_name)\n",
    "        else:\n",
    "            duplicate_apps.append(app_name)\n",
    "  \n",
    "    print(f'- # of Duplicate Apps: {len(duplicate_apps)}')        \n",
    "    print(f'- # of Unique Apps: {len(unique_apps)}')\n",
    " \n"
   ]
  },
  {
   "cell_type": "code",
   "execution_count": 13,
   "id": "5a174585",
   "metadata": {},
   "outputs": [
    {
     "name": "stdout",
     "output_type": "stream",
     "text": [
      "- # of Duplicate Apps: 1181\n",
      "- # of Unique Apps: 9659\n"
     ]
    }
   ],
   "source": [
    "check_duplicate_name_google(google_play_data)"
   ]
  },
  {
   "cell_type": "code",
   "execution_count": 14,
   "id": "60e18ee2",
   "metadata": {},
   "outputs": [
    {
     "name": "stdout",
     "output_type": "stream",
     "text": [
      "['App', 'Category', 'Rating', 'Reviews', 'Size', 'Installs', 'Type', 'Price', 'Content Rating', 'Genres', 'Last Updated', 'Current Ver', 'Android Ver']\n",
      "\n",
      "\n",
      "['Facebook', 'SOCIAL', '4.1', '78158306', 'Varies with device', '1,000,000,000+', 'Free', '0', 'Teen', 'Social', 'August 3, 2018', 'Varies with device', 'Varies with device']\n",
      "\n",
      "\n",
      "['Facebook', 'SOCIAL', '4.1', '78128208', 'Varies with device', '1,000,000,000+', 'Free', '0', 'Teen', 'Social', 'August 3, 2018', 'Varies with device', 'Varies with device']\n"
     ]
    }
   ],
   "source": [
    "# examining data of duplicate apps with random example \n",
    "print(google_play_header)\n",
    "for row in google_play_data:\n",
    "    if row[0] == 'Facebook':\n",
    "        print('\\n')\n",
    "        print(row)\n",
    "        "
   ]
  },
  {
   "cell_type": "markdown",
   "id": "95a48065",
   "metadata": {},
   "source": [
    "There are 1181 duplicate apps with the same name within the Google apps.\n",
    "\n",
    "After careful inspection within the Google apps data, we can see that for duplicate apps, there are different values for the 'Reviews' column. To get the most up-to-date information, the highest 'Review' value indicates the most recent data. We can retain the data entry for each unique app with the highest 'Reviews' value.\n",
    "\n",
    "### Removing duplicate apps in Google data"
   ]
  },
  {
   "cell_type": "code",
   "execution_count": 15,
   "id": "aa7f35b6",
   "metadata": {},
   "outputs": [],
   "source": [
    "# Cleaning the dataset to clear duplicates by highest review count\n",
    "def collect__uptodate_apps_google(dataset):\n",
    "    uptodate_apps = {}\n",
    "    clean_list = []\n",
    "    for row in dataset:\n",
    "        app_name = row[0]\n",
    "        reviews_value = row[3]\n",
    "        if app_name not in uptodate_apps:\n",
    "            uptodate_apps[app_name] = row\n",
    "        else:\n",
    "            # comparing review value to current review value in hashmap\n",
    "            if reviews_value > uptodate_apps[app_name][3]:\n",
    "                uptodate_apps[app_name] = row\n",
    "    print(f'- Number of unique apps: {len(uptodate_apps)}')\n",
    "    \n",
    "    # shift all the cleans rows from uptodate_apps into a new list\n",
    "    for key in uptodate_apps:\n",
    "        clean_list.append(uptodate_apps[key])\n",
    "        \n",
    "    #return that new list\n",
    "    return clean_list"
   ]
  },
  {
   "cell_type": "code",
   "execution_count": 16,
   "id": "ee0c22cb",
   "metadata": {},
   "outputs": [
    {
     "name": "stdout",
     "output_type": "stream",
     "text": [
      "- Number of unique apps: 9659\n",
      "['Photo Editor & Candy Camera & Grid & ScrapBook', 'ART_AND_DESIGN', '4.1', '159', '19M', '10,000+', 'Free', '0', 'Everyone', 'Art & Design', 'January 7, 2018', '1.0.0', '4.0.3 and up']\n",
      "\n",
      "\n",
      "['Coloring book moana', 'FAMILY', '3.9', '974', '14M', '500,000+', 'Free', '0', 'Everyone', 'Art & Design;Pretend Play', 'January 15, 2018', '2.0.0', '4.0.3 and up']\n",
      "\n",
      "\n",
      "['U Launcher Lite – FREE Live Cool Themes, Hide Apps', 'ART_AND_DESIGN', '4.7', '87510', '8.7M', '5,000,000+', 'Free', '0', 'Everyone', 'Art & Design', 'August 1, 2018', '1.2.4', '4.0.3 and up']\n",
      "\n",
      "\n",
      "Number of rows: 9659\n",
      "Number of columns: 13\n"
     ]
    }
   ],
   "source": [
    "clean_google_data = collect__uptodate_apps_google(google_play_data)\n",
    "explore_data(clean_google_data, 0 , 3, True)"
   ]
  },
  {
   "cell_type": "markdown",
   "id": "369c54f6",
   "metadata": {},
   "source": [
    "## -- Clean Data by English Apps --"
   ]
  },
  {
   "cell_type": "markdown",
   "id": "42d1b357",
   "metadata": {},
   "source": [
    "We can now clean the data by removing any apps that are non-English. To do this, we can search through the names of the app and verify if the characters in the app name string contain English letters. We can use python's built-in ord() function which returns the ASCII value of the character. If the character is from 0-127 inclusive, then it is part of the English language."
   ]
  },
  {
   "cell_type": "markdown",
   "id": "37fb3a23",
   "metadata": {},
   "source": [
    "### Clean Data by English Apps in Apple data"
   ]
  },
  {
   "cell_type": "code",
   "execution_count": 17,
   "id": "0060529d",
   "metadata": {},
   "outputs": [],
   "source": [
    "def identify_non_english_apps_apple(dataset):\n",
    "    english_apps_data =[]\n",
    "    for row in dataset:\n",
    "        non_english_count = 0 # this is to account for apps with emojis\n",
    "        app_name = row[1]\n",
    "        for character in app_name:\n",
    "            ascii_val = ord(character)\n",
    "            if ascii_val > 127:\n",
    "                non_english_count +=1\n",
    "        if non_english_count <=3: #we will include apps with up to 3 emojis in the title \n",
    "            english_apps_data.append(row)\n",
    "   \n",
    "    return english_apps_data\n"
   ]
  },
  {
   "cell_type": "code",
   "execution_count": 18,
   "id": "ac0fe370",
   "metadata": {},
   "outputs": [
    {
     "name": "stdout",
     "output_type": "stream",
     "text": [
      "['284882215', 'Facebook', '389879808', 'USD', '0.0', '2974676', '212', '3.5', '3.5', '95.0', '4+', 'Social Networking', '37', '1', '29', '1']\n",
      "\n",
      "\n",
      "['389801252', 'Instagram', '113954816', 'USD', '0.0', '2161558', '1289', '4.5', '4.0', '10.23', '12+', 'Photo & Video', '37', '0', '29', '1']\n",
      "\n",
      "\n",
      "['529479190', 'Clash of Clans', '116476928', 'USD', '0.0', '2130805', '579', '4.5', '4.5', '9.24.12', '9+', 'Games', '38', '5', '18', '1']\n",
      "\n",
      "\n",
      "Number of rows: 6183\n",
      "Number of columns: 16\n"
     ]
    }
   ],
   "source": [
    "english_apps_apple = identify_non_english_apps_apple(apple_store_data)\n",
    "explore_data(english_apps_apple, 0, 3, True)"
   ]
  },
  {
   "cell_type": "markdown",
   "id": "297fc031",
   "metadata": {},
   "source": [
    "### Clean Data by English Apps in Google data"
   ]
  },
  {
   "cell_type": "code",
   "execution_count": 19,
   "id": "cba3d396",
   "metadata": {},
   "outputs": [],
   "source": [
    "def identify_non_english_apps_google(dataset):\n",
    "    english_apps_data =[]\n",
    "    for row in dataset:\n",
    "        non_english_count = 0 # this is to account for apps with emojis\n",
    "        app_name = row[0]\n",
    "        for character in app_name:\n",
    "            ascii_val = ord(character)\n",
    "            if ascii_val > 127:\n",
    "                non_english_count +=1\n",
    "        if non_english_count <=3: #we will include apps with up to 3 emojis in the title \n",
    "            english_apps_data.append(row)\n",
    "\n",
    "    return english_apps_data"
   ]
  },
  {
   "cell_type": "code",
   "execution_count": 20,
   "id": "156fe6d8",
   "metadata": {},
   "outputs": [
    {
     "name": "stdout",
     "output_type": "stream",
     "text": [
      "['Photo Editor & Candy Camera & Grid & ScrapBook', 'ART_AND_DESIGN', '4.1', '159', '19M', '10,000+', 'Free', '0', 'Everyone', 'Art & Design', 'January 7, 2018', '1.0.0', '4.0.3 and up']\n",
      "\n",
      "\n",
      "['Coloring book moana', 'FAMILY', '3.9', '974', '14M', '500,000+', 'Free', '0', 'Everyone', 'Art & Design;Pretend Play', 'January 15, 2018', '2.0.0', '4.0.3 and up']\n",
      "\n",
      "\n",
      "['U Launcher Lite – FREE Live Cool Themes, Hide Apps', 'ART_AND_DESIGN', '4.7', '87510', '8.7M', '5,000,000+', 'Free', '0', 'Everyone', 'Art & Design', 'August 1, 2018', '1.2.4', '4.0.3 and up']\n",
      "\n",
      "\n",
      "Number of rows: 9614\n",
      "Number of columns: 13\n"
     ]
    }
   ],
   "source": [
    "english_apps_google = identify_non_english_apps_google(clean_google_data)\n",
    "explore_data(english_apps_google, 0, 3, True)"
   ]
  },
  {
   "cell_type": "markdown",
   "id": "526ba455",
   "metadata": {},
   "source": [
    "## -- Checkpoint --\n",
    "\n",
    "So far we have done the following for both the Apple and Google datasets:\n",
    "\n",
    "- Removed inaccurate data\n",
    "- Removed duplicate app entries\n",
    "- Removed non-English apps\n",
    "\n",
    "\n",
    "#### For the purposes of this project, we are focused on free apps only because we aim to only build apps that are free, and the main source of revenue is in-app ads. Now we can clean the data to retain only apps that are free."
   ]
  },
  {
   "cell_type": "markdown",
   "id": "3cb3ea2a",
   "metadata": {},
   "source": [
    "### -- Retrieve Only Free Apps from Apple --"
   ]
  },
  {
   "cell_type": "code",
   "execution_count": 21,
   "id": "77d0e116",
   "metadata": {},
   "outputs": [],
   "source": [
    "def free_data_apple(dataset):\n",
    "    free_apps = []\n",
    "    for row in dataset:\n",
    "        price = row[4]\n",
    "        if price == '0' or price == '0.00' or price == '0.0':\n",
    "            free_apps.append(row)\n",
    "    return free_apps"
   ]
  },
  {
   "cell_type": "code",
   "execution_count": 22,
   "id": "eda31b12",
   "metadata": {},
   "outputs": [
    {
     "name": "stdout",
     "output_type": "stream",
     "text": [
      "['284882215', 'Facebook', '389879808', 'USD', '0.0', '2974676', '212', '3.5', '3.5', '95.0', '4+', 'Social Networking', '37', '1', '29', '1']\n",
      "\n",
      "\n",
      "['389801252', 'Instagram', '113954816', 'USD', '0.0', '2161558', '1289', '4.5', '4.0', '10.23', '12+', 'Photo & Video', '37', '0', '29', '1']\n",
      "\n",
      "\n",
      "['529479190', 'Clash of Clans', '116476928', 'USD', '0.0', '2130805', '579', '4.5', '4.5', '9.24.12', '9+', 'Games', '38', '5', '18', '1']\n",
      "\n",
      "\n",
      "Number of rows: 3222\n",
      "Number of columns: 16\n"
     ]
    }
   ],
   "source": [
    "final_clean_data_apple = free_data_apple(english_apps_apple)\n",
    "explore_data(final_clean_data_apple, 0, 3, True)"
   ]
  },
  {
   "cell_type": "markdown",
   "id": "2e3e962d",
   "metadata": {},
   "source": [
    "### -- Retrieve Only Free Apps from Google --"
   ]
  },
  {
   "cell_type": "code",
   "execution_count": 23,
   "id": "4e6e0fb9",
   "metadata": {},
   "outputs": [],
   "source": [
    "def free_data_google(dataset):\n",
    "    free_apps = []\n",
    "    for row in dataset:\n",
    "        price = row[7]\n",
    "        if price == '0' or price == '0.00':\n",
    "            free_apps.append(row)\n",
    "    return free_apps"
   ]
  },
  {
   "cell_type": "code",
   "execution_count": 24,
   "id": "4e39ff98",
   "metadata": {},
   "outputs": [
    {
     "name": "stdout",
     "output_type": "stream",
     "text": [
      "['Photo Editor & Candy Camera & Grid & ScrapBook', 'ART_AND_DESIGN', '4.1', '159', '19M', '10,000+', 'Free', '0', 'Everyone', 'Art & Design', 'January 7, 2018', '1.0.0', '4.0.3 and up']\n",
      "\n",
      "\n",
      "['Coloring book moana', 'FAMILY', '3.9', '974', '14M', '500,000+', 'Free', '0', 'Everyone', 'Art & Design;Pretend Play', 'January 15, 2018', '2.0.0', '4.0.3 and up']\n",
      "\n",
      "\n",
      "['U Launcher Lite – FREE Live Cool Themes, Hide Apps', 'ART_AND_DESIGN', '4.7', '87510', '8.7M', '5,000,000+', 'Free', '0', 'Everyone', 'Art & Design', 'August 1, 2018', '1.2.4', '4.0.3 and up']\n",
      "\n",
      "\n",
      "Number of rows: 8862\n",
      "Number of columns: 13\n"
     ]
    }
   ],
   "source": [
    "final_clean_data_google = free_data_google(english_apps_google)\n",
    "explore_data(final_clean_data_google, 0, 3, True)"
   ]
  },
  {
   "cell_type": "markdown",
   "id": "1fdf5a21",
   "metadata": {},
   "source": [
    "### Final Number of Apps from Clean Apple Data:  3222\n",
    "### Final Number of Apps from Clean Google Data:  8862"
   ]
  },
  {
   "cell_type": "markdown",
   "id": "61782c2a",
   "metadata": {},
   "source": [
    "## -- Analysis --\n",
    "\n",
    "Our aim is to determine the kinds of apps that are likely to attract more users because revenue is highly influenced by the number of people using our apps.\n",
    "\n",
    "### Criteria to determine apps:\n",
    "\n",
    "- Build a minimal Android version of the app, and add it to Google Play.\n",
    "- If the app has a good response from users, we develop it further.\n",
    "- If the app is profitable after six months, we build an iOS version of the app and add it to the App Store.\n",
    "\n",
    "Because our end goal is to add the app on both Google Play and the App Store, we need to find app profiles that are successful on both markets.\n",
    "\n",
    "#### To begin the analysis, let's first start off by finding the most popular genres of apps within Apple and Google."
   ]
  },
  {
   "cell_type": "markdown",
   "id": "6e01634b",
   "metadata": {},
   "source": [
    "## -- Creating Frequency Tables --\n",
    "\n",
    "We can create frequency tables to show the most common genre for apps within the Apple and Google datasets"
   ]
  },
  {
   "cell_type": "code",
   "execution_count": 25,
   "id": "05c476bd",
   "metadata": {},
   "outputs": [],
   "source": [
    "\n",
    "# form a frequency table showing app genres and their relative percentages to all other apps\n",
    "# used to display percentages in descending order\n",
    "def display_freq_table(dataset, index):\n",
    "    table = freq_table(dataset, index) # helper function\n",
    "    table_display = []\n",
    "    for key in table:\n",
    "        key_val_as_tuple = (table[key], key)\n",
    "        table_display.append(key_val_as_tuple)\n",
    "\n",
    "    table_sorted = sorted(table_display, reverse = True)\n",
    "    for entry in table_sorted:\n",
    "        print(entry[1], ':', entry[0])\n",
    "        \n",
    "# helper function to create a dictionary with key: app genre, value: # of apps within that genre\n",
    "# used to return the entire freq table\n",
    "def freq_table(dataset, index):\n",
    "    freq_dict = {}\n",
    "    freq_dict_percentages = {}\n",
    "    total_dataset_length = len(dataset)\n",
    "    for row in dataset:\n",
    "        value = row[index]\n",
    "        if value not in freq_dict:\n",
    "            freq_dict[value] = 0\n",
    "        freq_dict[value] +=1\n",
    "    for key in freq_dict:\n",
    "        freq_dict_percentages[key] = (freq_dict[key]/total_dataset_length) * 100\n",
    "    return freq_dict_percentages"
   ]
  },
  {
   "cell_type": "markdown",
   "id": "c037caaf",
   "metadata": {},
   "source": [
    "### Apple Data "
   ]
  },
  {
   "cell_type": "code",
   "execution_count": 26,
   "id": "c3291c6f",
   "metadata": {},
   "outputs": [
    {
     "name": "stdout",
     "output_type": "stream",
     "text": [
      "Games : 58.16263190564867\n",
      "Entertainment : 7.883302296710118\n",
      "Photo & Video : 4.9658597144630665\n",
      "Education : 3.662321539416512\n",
      "Social Networking : 3.2898820608317814\n",
      "Shopping : 2.60707635009311\n",
      "Utilities : 2.5139664804469275\n",
      "Sports : 2.1415270018621975\n",
      "Music : 2.0484171322160147\n",
      "Health & Fitness : 2.0173805090006205\n",
      "Productivity : 1.7380509000620732\n",
      "Lifestyle : 1.5828677839851024\n",
      "News : 1.3345747982619491\n",
      "Travel : 1.2414649286157666\n",
      "Finance : 1.1173184357541899\n",
      "Weather : 0.8690254500310366\n",
      "Food & Drink : 0.8069522036002483\n",
      "Reference : 0.5586592178770949\n",
      "Business : 0.5276225946617008\n",
      "Book : 0.4345127250155183\n",
      "Navigation : 0.186219739292365\n",
      "Medical : 0.186219739292365\n",
      "Catalogs : 0.12414649286157665\n"
     ]
    }
   ],
   "source": [
    "display_freq_table(final_clean_data_apple, 11)"
   ]
  },
  {
   "cell_type": "markdown",
   "id": "402272dd",
   "metadata": {},
   "source": [
    "Using the display_freq_table() function, we can see that 'Games' is the most popular app genre among free, English language Apple apps. They make up ~58% of apps within these constraints. 'Entertainment' and 'Photo & Video' apps are the second and third most popular apps at ~8% and ~5% respectively."
   ]
  },
  {
   "cell_type": "markdown",
   "id": "bf8fbf3f",
   "metadata": {},
   "source": [
    "### Google Data "
   ]
  },
  {
   "cell_type": "code",
   "execution_count": 27,
   "id": "8b63c7c6",
   "metadata": {},
   "outputs": [
    {
     "name": "stdout",
     "output_type": "stream",
     "text": [
      "FAMILY : 18.934777702550214\n",
      "GAME : 9.693071541412774\n",
      "TOOLS : 8.451816745655607\n",
      "BUSINESS : 4.5926427443015125\n",
      "LIFESTYLE : 3.9043105393816293\n",
      "PRODUCTIVITY : 3.8930264048747465\n",
      "FINANCE : 3.7011961182577298\n",
      "MEDICAL : 3.5206499661475967\n",
      "SPORTS : 3.39652448657188\n",
      "PERSONALIZATION : 3.3175355450236967\n",
      "COMMUNICATION : 3.238546603475513\n",
      "HEALTH_AND_FITNESS : 3.080568720379147\n",
      "PHOTOGRAPHY : 2.945159106296547\n",
      "NEWS_AND_MAGAZINES : 2.798465357707064\n",
      "SOCIAL : 2.663055743624464\n",
      "TRAVEL_AND_LOCAL : 2.335815842924848\n",
      "SHOPPING : 2.2455427668697814\n",
      "BOOKS_AND_REFERENCE : 2.143985556307831\n",
      "DATING : 1.8618821936357481\n",
      "VIDEO_PLAYERS : 1.7941773865944481\n",
      "MAPS_AND_NAVIGATION : 1.399232678853532\n",
      "FOOD_AND_DRINK : 1.2412547957571656\n",
      "EDUCATION : 1.1735499887158656\n",
      "ENTERTAINMENT : 0.9591514330850823\n",
      "LIBRARIES_AND_DEMO : 0.9365831640713158\n",
      "AUTO_AND_VEHICLES : 0.9252990295644324\n",
      "HOUSE_AND_HOME : 0.8237418190024826\n",
      "WEATHER : 0.8011735499887158\n",
      "EVENTS : 0.7109004739336493\n",
      "PARENTING : 0.6544798013992327\n",
      "ART_AND_DESIGN : 0.6431956668923494\n",
      "COMICS : 0.6206273978785828\n",
      "BEAUTY : 0.598059128864816\n"
     ]
    }
   ],
   "source": [
    "display_freq_table(final_clean_data_google, 1)"
   ]
  },
  {
   "cell_type": "code",
   "execution_count": 28,
   "id": "c93a6039",
   "metadata": {},
   "outputs": [
    {
     "name": "stdout",
     "output_type": "stream",
     "text": [
      "Tools : 8.440532611148726\n",
      "Entertainment : 6.070864364703228\n",
      "Education : 5.348679756262695\n",
      "Business : 4.5926427443015125\n",
      "Productivity : 3.8930264048747465\n",
      "Lifestyle : 3.8930264048747465\n",
      "Finance : 3.7011961182577298\n",
      "Medical : 3.5206499661475967\n",
      "Sports : 3.4642292936131795\n",
      "Personalization : 3.3175355450236967\n",
      "Communication : 3.238546603475513\n",
      "Action : 3.1031369893929135\n",
      "Health & Fitness : 3.080568720379147\n",
      "Photography : 2.945159106296547\n",
      "News & Magazines : 2.798465357707064\n",
      "Social : 2.663055743624464\n",
      "Travel & Local : 2.324531708417964\n",
      "Shopping : 2.2455427668697814\n",
      "Books & Reference : 2.143985556307831\n",
      "Simulation : 2.0424283457458814\n",
      "Dating : 1.8618821936357481\n",
      "Arcade : 1.8505980591288649\n",
      "Video Players & Editors : 1.7716091175806816\n",
      "Casual : 1.7490408485669149\n",
      "Maps & Navigation : 1.399232678853532\n",
      "Food & Drink : 1.2412547957571656\n",
      "Puzzle : 1.128413450688332\n",
      "Racing : 0.9930038366057323\n",
      "Role Playing : 0.9365831640713158\n",
      "Libraries & Demo : 0.9365831640713158\n",
      "Auto & Vehicles : 0.9252990295644324\n",
      "Strategy : 0.9140148950575491\n",
      "House & Home : 0.8237418190024826\n",
      "Weather : 0.8011735499887158\n",
      "Events : 0.7109004739336493\n",
      "Adventure : 0.6770480704129994\n",
      "Comics : 0.6093432633716994\n",
      "Beauty : 0.598059128864816\n",
      "Art & Design : 0.598059128864816\n",
      "Parenting : 0.49650191830286616\n",
      "Card : 0.4400812457684496\n",
      "Casino : 0.4287971112615662\n",
      "Trivia : 0.41751297675468296\n",
      "Educational;Education : 0.3949447077409162\n",
      "Educational : 0.3723764387271496\n",
      "Board : 0.3723764387271496\n",
      "Education;Education : 0.3385240352064997\n",
      "Word : 0.2595350936583164\n",
      "Casual;Pretend Play : 0.23696682464454977\n",
      "Music : 0.2031144211238998\n",
      "Puzzle;Brain Games : 0.18054615211013314\n",
      "Racing;Action & Adventure : 0.16926201760324985\n",
      "Entertainment;Music & Video : 0.16926201760324985\n",
      "Casual;Brain Games : 0.13540961408259986\n",
      "Casual;Action & Adventure : 0.13540961408259986\n",
      "Arcade;Action & Adventure : 0.12412547957571654\n",
      "Action;Action & Adventure : 0.1015572105619499\n",
      "Educational;Pretend Play : 0.09027307605506657\n",
      "Board;Brain Games : 0.09027307605506657\n",
      "Simulation;Action & Adventure : 0.07898894154818326\n",
      "Parenting;Education : 0.07898894154818326\n",
      "Entertainment;Brain Games : 0.07898894154818326\n",
      "Parenting;Music & Video : 0.06770480704129993\n",
      "Educational;Brain Games : 0.06770480704129993\n",
      "Casual;Creativity : 0.06770480704129993\n",
      "Art & Design;Creativity : 0.06770480704129993\n",
      "Education;Pretend Play : 0.056420672534416606\n",
      "Role Playing;Pretend Play : 0.045136538027533285\n",
      "Education;Creativity : 0.045136538027533285\n",
      "Role Playing;Action & Adventure : 0.033852403520649964\n",
      "Puzzle;Action & Adventure : 0.033852403520649964\n",
      "Entertainment;Creativity : 0.033852403520649964\n",
      "Entertainment;Action & Adventure : 0.033852403520649964\n",
      "Educational;Creativity : 0.033852403520649964\n",
      "Educational;Action & Adventure : 0.033852403520649964\n",
      "Education;Music & Video : 0.033852403520649964\n",
      "Education;Brain Games : 0.033852403520649964\n",
      "Education;Action & Adventure : 0.033852403520649964\n",
      "Adventure;Action & Adventure : 0.033852403520649964\n",
      "Video Players & Editors;Music & Video : 0.022568269013766643\n",
      "Sports;Action & Adventure : 0.022568269013766643\n",
      "Simulation;Pretend Play : 0.022568269013766643\n",
      "Puzzle;Creativity : 0.022568269013766643\n",
      "Music;Music & Video : 0.022568269013766643\n",
      "Entertainment;Pretend Play : 0.022568269013766643\n",
      "Casual;Education : 0.022568269013766643\n",
      "Board;Action & Adventure : 0.022568269013766643\n",
      "Video Players & Editors;Creativity : 0.011284134506883321\n",
      "Trivia;Education : 0.011284134506883321\n",
      "Travel & Local;Action & Adventure : 0.011284134506883321\n",
      "Tools;Education : 0.011284134506883321\n",
      "Strategy;Education : 0.011284134506883321\n",
      "Strategy;Creativity : 0.011284134506883321\n",
      "Strategy;Action & Adventure : 0.011284134506883321\n",
      "Simulation;Education : 0.011284134506883321\n",
      "Role Playing;Brain Games : 0.011284134506883321\n",
      "Racing;Pretend Play : 0.011284134506883321\n",
      "Puzzle;Education : 0.011284134506883321\n",
      "Parenting;Brain Games : 0.011284134506883321\n",
      "Music & Audio;Music & Video : 0.011284134506883321\n",
      "Lifestyle;Pretend Play : 0.011284134506883321\n",
      "Lifestyle;Education : 0.011284134506883321\n",
      "Health & Fitness;Education : 0.011284134506883321\n",
      "Health & Fitness;Action & Adventure : 0.011284134506883321\n",
      "Entertainment;Education : 0.011284134506883321\n",
      "Communication;Creativity : 0.011284134506883321\n",
      "Comics;Creativity : 0.011284134506883321\n",
      "Casual;Music & Video : 0.011284134506883321\n",
      "Card;Brain Games : 0.011284134506883321\n",
      "Card;Action & Adventure : 0.011284134506883321\n",
      "Books & Reference;Education : 0.011284134506883321\n",
      "Art & Design;Pretend Play : 0.011284134506883321\n",
      "Art & Design;Action & Adventure : 0.011284134506883321\n",
      "Arcade;Pretend Play : 0.011284134506883321\n",
      "Adventure;Education : 0.011284134506883321\n"
     ]
    }
   ],
   "source": [
    "display_freq_table(final_clean_data_google, 9)"
   ]
  },
  {
   "cell_type": "markdown",
   "id": "743f6418",
   "metadata": {},
   "source": [
    "With the google data, there are two columns that indicate different genres of apps. They are 'Category' and 'Genres.' When we make frequency tables using these two different parameters, we come up with different results. When we use 'Category' as the parameter, the top three most popular free, English language Google apps are 'Family', 'Game', and 'Tools'. They make up ~19%, ~10%, and ~8% of apps within these constraints. \n",
    "\n",
    "When we use 'Genres' as the parameter, the top three most popular free, English language Google apps are 'Tools', 'Entertainment', and 'Education'. They make up ~8%, ~6%, and ~5% of apps within these constraints.\n",
    "\n",
    "The frequency table that is generated from using 'Genres' as the parameter has many more entires than using 'Category' as the parameter. The entires within 'Generes' also appears to be more specific. For our purposes, we will use the frequency table generated by using 'Category' as our parameter because that provide a bigger-picture for our analysis"
   ]
  },
  {
   "cell_type": "markdown",
   "id": "8943afe1",
   "metadata": {},
   "source": [
    "Something to keep in mind is that there tables indicate what the most popular generes are in the app store, but it does not mean that these apps also have the most users."
   ]
  },
  {
   "cell_type": "markdown",
   "id": "93cfd3ce",
   "metadata": {},
   "source": [
    "## -- Finding the Most Popular Apps by Genre --\n",
    "\n",
    "One way to find out what genres are the most popular (have the most users) is to calculate the average number of installs for each app genre. For the Google Play dataset, we can find this information in the Installs column, but this information is missing for the Apple Store dataset. As a workaround, we'll take the total number of user ratings as a proxy, which we can find in the 'rating_count_tot' column. "
   ]
  },
  {
   "cell_type": "markdown",
   "id": "4d142b84",
   "metadata": {},
   "source": [
    "### Apple Data - Finding the Most Popular Apps by Genre"
   ]
  },
  {
   "cell_type": "code",
   "execution_count": 29,
   "id": "68044b7f",
   "metadata": {},
   "outputs": [],
   "source": [
    "def most_popular_apps_by_genre_apple(freq_table_apple, dataset):\n",
    "    apps = [] \n",
    "    for genre in freq_table_apple: # start off with 1 genre from the frequency table\n",
    "        total = 0\n",
    "        len_genre = 0\n",
    "        for row in dataset: # iterate through all apps in the clean dataset \n",
    "            app_genre = row[11]\n",
    "            if app_genre == genre: \n",
    "                num_of_ratings = float(row[5])\n",
    "                total += num_of_ratings\n",
    "                len_genre +=1\n",
    "        avg_num_ratings = total/len_genre # calculate average installations of an app by genre\n",
    "        apps.append([genre, avg_num_ratings])\n",
    "        \n",
    "    # sort entire list of [genre, avg_num_ratings] by avg_num_ratings and display in descending order    \n",
    "    apps.sort(key = lambda x : x[1])\n",
    "    for row in reversed(apps):\n",
    "        print(row[0], ':', row[1])"
   ]
  },
  {
   "cell_type": "code",
   "execution_count": 30,
   "id": "4595539d",
   "metadata": {
    "scrolled": true
   },
   "outputs": [
    {
     "name": "stdout",
     "output_type": "stream",
     "text": [
      "Navigation : 86090.33333333333\n",
      "Reference : 74942.11111111111\n",
      "Social Networking : 71548.34905660378\n",
      "Music : 57326.530303030304\n",
      "Weather : 52279.892857142855\n",
      "Book : 39758.5\n",
      "Food & Drink : 33333.92307692308\n",
      "Finance : 31467.944444444445\n",
      "Photo & Video : 28441.54375\n",
      "Travel : 28243.8\n",
      "Shopping : 26919.690476190477\n",
      "Health & Fitness : 23298.015384615384\n",
      "Sports : 23008.898550724636\n",
      "Games : 22788.6696905016\n",
      "News : 21248.023255813954\n",
      "Productivity : 21028.410714285714\n",
      "Utilities : 18684.456790123455\n",
      "Lifestyle : 16485.764705882353\n",
      "Entertainment : 14029.830708661417\n",
      "Business : 7491.117647058823\n",
      "Education : 7003.983050847458\n",
      "Catalogs : 4004.0\n",
      "Medical : 612.0\n"
     ]
    }
   ],
   "source": [
    "# retrieve a freq table for the Apple apps. 12 is in the index for 'prime_genre'\n",
    "freq_table_apple = freq_table(final_clean_data_apple, 11)\n",
    "\n",
    "most_popular_apps_by_genre_apple(freq_table_apple, final_clean_data_apple) "
   ]
  },
  {
   "cell_type": "markdown",
   "id": "efce590a",
   "metadata": {},
   "source": [
    "We can see that the 'Navigation' genre has the highest average number of user reviews. Let's dig into this a bit deeper by seeing all the 'Navigation' apps and the respective number of reviews per app."
   ]
  },
  {
   "cell_type": "code",
   "execution_count": 31,
   "id": "c8f7d8dd",
   "metadata": {},
   "outputs": [
    {
     "name": "stdout",
     "output_type": "stream",
     "text": [
      "Waze - GPS Navigation, Maps & Real-time Traffic : 345046\n",
      "Google Maps - Navigation & Transit : 154911\n",
      "Geocaching® : 12811\n",
      "CoPilot GPS – Car Navigation & Offline Maps : 3582\n",
      "ImmobilienScout24: Real Estate Search in Germany : 187\n",
      "Railway Route Search : 5\n"
     ]
    }
   ],
   "source": [
    "for row in final_clean_data_apple:\n",
    "    genre = row[11]\n",
    "    app_name = row[1]\n",
    "    num_reviews = row[5]\n",
    "    if genre == 'Navigation':\n",
    "        print(app_name, ':', num_reviews )\n",
    "        "
   ]
  },
  {
   "cell_type": "markdown",
   "id": "377e89dc",
   "metadata": {},
   "source": [
    "Upon further investigation from above, we can see that there are only 6 apps within in the 'Navigation' genre and the Waze and Google Maps apps have very high number of users. \n",
    "\n",
    "Let's do the same examination for 'Reference' apps."
   ]
  },
  {
   "cell_type": "code",
   "execution_count": 32,
   "id": "1980a66f",
   "metadata": {},
   "outputs": [
    {
     "name": "stdout",
     "output_type": "stream",
     "text": [
      "Bible : 985920\n",
      "Dictionary.com Dictionary & Thesaurus : 200047\n",
      "Dictionary.com Dictionary & Thesaurus for iPad : 54175\n",
      "Google Translate : 26786\n",
      "Muslim Pro: Ramadan 2017 Prayer Times, Azan, Quran : 18418\n",
      "New Furniture Mods - Pocket Wiki & Game Tools for Minecraft PC Edition : 17588\n",
      "Merriam-Webster Dictionary : 16849\n",
      "Night Sky : 12122\n",
      "City Maps for Minecraft PE - The Best Maps for Minecraft Pocket Edition (MCPE) : 8535\n",
      "LUCKY BLOCK MOD ™ for Minecraft PC Edition - The Best Pocket Wiki & Mods Installer Tools : 4693\n",
      "GUNS MODS for Minecraft PC Edition - Mods Tools : 1497\n",
      "Guides for Pokémon GO - Pokemon GO News and Cheats : 826\n",
      "WWDC : 762\n",
      "Horror Maps for Minecraft PE - Download The Scariest Maps for Minecraft Pocket Edition (MCPE) Free : 718\n",
      "VPN Express : 14\n",
      "Real Bike Traffic Rider Virtual Reality Glasses : 8\n",
      "教えて!goo : 0\n",
      "Jishokun-Japanese English Dictionary & Translator : 0\n"
     ]
    }
   ],
   "source": [
    "for row in final_clean_data_apple:\n",
    "    genre = row[11]\n",
    "    app_name = row[1]\n",
    "    num_reviews = row[5]\n",
    "    if genre == 'Reference':\n",
    "        print(app_name, ':', num_reviews )"
   ]
  },
  {
   "cell_type": "markdown",
   "id": "40b7e347",
   "metadata": {},
   "source": [
    "We can see that the 'Bible' app makes up a bulk of the number of user reviews within 'Reference' apps.\n",
    "\n",
    "### Brief Analysis for Apple\n",
    "\n",
    "Although the 'Games' genre is the most common genre among all genres in Apple apps, it's the genres of 'Navigation' and 'Reference' that have the highest average number of user reviews per app by genre. This means that there are many more apps within the 'Games' genre, and developing an app with this genre may be difficult to have it stand out from the rest. Perhaps building an app that allows people to read a popular book may be successful to draw a lot of traffic. Another idea could be bulding a navigation app for another mode of transportation that is common, such as trains or bikes. "
   ]
  },
  {
   "cell_type": "markdown",
   "id": "bd6d2809",
   "metadata": {},
   "source": [
    "### Google Data - Finding the Most Popular Apps by Genre"
   ]
  },
  {
   "cell_type": "markdown",
   "id": "9f386360",
   "metadata": {},
   "source": [
    "Below, we can investigate the Google data and see how the 'Installs' column is setup. We can see that there are different types of numbers indicating number of downloads for an app. Something to note is that the information presented below is not very precise because these number cutoffs don't include the number themselves. For example, '1,000,000+' may not include 1,000,000, '100,000+' may not include 100,000 and so on.   "
   ]
  },
  {
   "cell_type": "markdown",
   "id": "e7aff3fd",
   "metadata": {},
   "source": [
    "This level of precision is not important for our purposes, which is to find which app genres attract the most users. To perform computations, we will assume '1,000,000+' installations equates to 1,000,000 installations and so on. Next, we need to transform the data so that we get rid of commas and the '+' signs"
   ]
  },
  {
   "cell_type": "code",
   "execution_count": 33,
   "id": "3da309f2",
   "metadata": {},
   "outputs": [
    {
     "name": "stdout",
     "output_type": "stream",
     "text": [
      "1,000,000+ : 15.741367637102236\n",
      "100,000+ : 11.554953735048521\n",
      "10,000,000+ : 10.516813360415256\n",
      "10,000+ : 10.200857594222523\n",
      "1,000+ : 8.395396073121193\n",
      "100+ : 6.917174452719477\n",
      "5,000,000+ : 6.838185511171294\n",
      "500,000+ : 5.574362446400361\n",
      "50,000+ : 4.773188896411646\n",
      "5,000+ : 4.513653802753328\n",
      "10+ : 3.5432182351613632\n",
      "500+ : 3.2498307379823967\n",
      "50,000,000+ : 2.2906793048973144\n",
      "100,000,000+ : 2.1214172872940646\n",
      "50+ : 1.9183028661701647\n",
      "5+ : 0.7898894154818324\n",
      "1+ : 0.5077860528097494\n",
      "500,000,000+ : 0.2708192281651997\n",
      "1,000,000,000+ : 0.22568269013766643\n",
      "0+ : 0.045136538027533285\n",
      "0 : 0.011284134506883321\n"
     ]
    }
   ],
   "source": [
    "display_freq_table(final_clean_data_google, 5)"
   ]
  },
  {
   "cell_type": "code",
   "execution_count": 34,
   "id": "2cb0964a",
   "metadata": {
    "scrolled": true
   },
   "outputs": [],
   "source": [
    "def most_popular_apps_by_genre_google(freq_table_google, dataset):\n",
    "    apps = []\n",
    "    for genre in freq_table_google: # start off with 1 genre from the frequency table\n",
    "        total = 0\n",
    "        len_genre = 0\n",
    "        for row in dataset: # iterate through all apps in the clean dataset \n",
    "            app_genre = row[1]\n",
    "            if app_genre == genre:\n",
    "                num_of_installs = row[5]\n",
    "                num_of_installs = num_of_installs.replace(',', '') # Converting strings with ',' and '+' to integers\n",
    "                num_of_installs = num_of_installs.replace('+','')\n",
    "                num_of_installs = float(num_of_installs)\n",
    "                total += num_of_installs\n",
    "                len_genre +=1\n",
    "        avg_num_installs = total/len_genre\n",
    "        apps.append([genre, avg_num_installs])\n",
    "    \n",
    "    # sort entire list of [genre, avg_num_ratings] by avg_num_ratings and display in descending order    \n",
    "    apps.sort(key = lambda x : x[1])\n",
    "    for row in reversed(apps):\n",
    "        print(row[0], ':', row[1])         "
   ]
  },
  {
   "cell_type": "code",
   "execution_count": 35,
   "id": "739bc199",
   "metadata": {},
   "outputs": [
    {
     "name": "stdout",
     "output_type": "stream",
     "text": [
      "COMMUNICATION : 38456119.167247385\n",
      "VIDEO_PLAYERS : 24727872.452830188\n",
      "SOCIAL : 23253652.127118643\n",
      "PHOTOGRAPHY : 17805627.643678162\n",
      "PRODUCTIVITY : 16787331.344927534\n",
      "GAME : 15560965.599534342\n",
      "TRAVEL_AND_LOCAL : 13984077.710144928\n",
      "ENTERTAINMENT : 11640705.88235294\n",
      "TOOLS : 10682301.033377837\n",
      "NEWS_AND_MAGAZINES : 9549178.467741935\n",
      "BOOKS_AND_REFERENCE : 8767811.894736841\n",
      "SHOPPING : 7036877.311557789\n",
      "PERSONALIZATION : 5201482.6122448975\n",
      "WEATHER : 5074486.197183099\n",
      "HEALTH_AND_FITNESS : 4188821.9853479853\n",
      "MAPS_AND_NAVIGATION : 4056941.7741935486\n",
      "FAMILY : 3694276.334922527\n",
      "SPORTS : 3638640.1428571427\n",
      "ART_AND_DESIGN : 1986335.0877192982\n",
      "FOOD_AND_DRINK : 1924897.7363636363\n",
      "EDUCATION : 1820673.076923077\n",
      "BUSINESS : 1712290.1474201474\n",
      "LIFESTYLE : 1437816.2687861272\n",
      "FINANCE : 1387692.475609756\n",
      "HOUSE_AND_HOME : 1331540.5616438356\n",
      "DATING : 854028.8303030303\n",
      "COMICS : 817657.2727272727\n",
      "AUTO_AND_VEHICLES : 647317.8170731707\n",
      "LIBRARIES_AND_DEMO : 638503.734939759\n",
      "PARENTING : 542603.6206896552\n",
      "BEAUTY : 513151.88679245283\n",
      "EVENTS : 253542.22222222222\n",
      "MEDICAL : 120616.48717948717\n"
     ]
    }
   ],
   "source": [
    "# retrieve a freq table for the Google apps. 1 is in the index for 'Category'\n",
    "freq_table_google = freq_table(final_clean_data_google, 1)\n",
    "\n",
    "most_popular_apps_by_genre_google(freq_table_google, final_clean_data_google)"
   ]
  },
  {
   "cell_type": "markdown",
   "id": "bed721a0",
   "metadata": {},
   "source": [
    "We can see in the Googe data that 'Communication' genre apps have the highest average installs out of all genres. Let's explore the most popular individual apps within the 'Communication' genre."
   ]
  },
  {
   "cell_type": "code",
   "execution_count": 36,
   "id": "c322a88e",
   "metadata": {},
   "outputs": [
    {
     "name": "stdout",
     "output_type": "stream",
     "text": [
      "Messenger – Text and Video Chat for Free : 1,000,000,000+\n",
      "WhatsApp Messenger : 1,000,000,000+\n",
      "Google Chrome: Fast & Secure : 1,000,000,000+\n",
      "Gmail : 1,000,000,000+\n",
      "Hangouts : 1,000,000,000+\n",
      "Viber Messenger : 500,000,000+\n",
      "imo free video calls and chat : 500,000,000+\n",
      "Google Duo - High Quality Video Calls : 500,000,000+\n",
      "UC Browser - Fast Download Private & Secure : 500,000,000+\n",
      "Skype - free IM & video calls : 1,000,000,000+\n",
      "LINE: Free Calls & Messages : 500,000,000+\n"
     ]
    }
   ],
   "source": [
    "for row in final_clean_data_google:\n",
    "    app_name = row[0]\n",
    "    genre = row[1]\n",
    "    installs = row[5]\n",
    "    if genre == 'COMMUNICATION' and (installs == '1,000,000,000+' or installs == '500,000,000+'):\n",
    "        print(app_name, ':', installs)"
   ]
  },
  {
   "cell_type": "markdown",
   "id": "b970b131",
   "metadata": {},
   "source": [
    "The top three most popular apps within 'COMMUNICATION', in no partcular order, are 'Messenger - Text and Video Chat for Free', 'WhatsApp Messenger', and 'Google Chrome: Fast & Secure '. \n",
    "\n",
    "Let's explore the second most popular apps by genre: 'VIDEO_PLAYERS'."
   ]
  },
  {
   "cell_type": "code",
   "execution_count": 37,
   "id": "ef3eaf72",
   "metadata": {},
   "outputs": [
    {
     "name": "stdout",
     "output_type": "stream",
     "text": [
      "YouTube : 1,000,000,000+\n",
      "Google Play Movies & TV : 1,000,000,000+\n",
      "MX Player : 500,000,000+\n"
     ]
    }
   ],
   "source": [
    "for row in final_clean_data_google:\n",
    "    app_name = row[0]\n",
    "    genre = row[1]\n",
    "    installs = row[5]\n",
    "    if genre == 'VIDEO_PLAYERS' and (installs == '1,000,000,000+' or installs == '500,000,000+'):\n",
    "        print(app_name, ':', installs)"
   ]
  },
  {
   "cell_type": "markdown",
   "id": "ad42fd16",
   "metadata": {},
   "source": [
    "The top three most popular apps within 'VIDEO_PLAYERS', in no particular order, are 'Youtube', 'Google Play Movies & TV', and 'MX Player'."
   ]
  },
  {
   "cell_type": "markdown",
   "id": "b59760b8",
   "metadata": {},
   "source": [
    "### Brief Analysis for Google\n",
    "\n",
    "We can see that within these top two genres, the top apps within these genres are dominated by large companies such as Meta and Google. Breaking in to these markets may be tough because of the large number of apps that generate over 1,000,000,000+ installations. We can try and take a look at the 'BOOKS_AND_REFERENCE' genre because we had some luck within that genre in the Apple data."
   ]
  },
  {
   "cell_type": "code",
   "execution_count": 38,
   "id": "8b41584a",
   "metadata": {},
   "outputs": [
    {
     "name": "stdout",
     "output_type": "stream",
     "text": [
      "Wattpad 📖 Free Books : 100,000,000+\n",
      "Wikipedia : 10,000,000+\n",
      "Amazon Kindle : 100,000,000+\n",
      "Cool Reader : 10,000,000+\n",
      "Dictionary - Merriam-Webster : 10,000,000+\n",
      "NOOK: Read eBooks & Magazines : 10,000,000+\n",
      "FBReader: Favorite Book Reader : 10,000,000+\n",
      "Oxford Dictionary of English : Free : 10,000,000+\n",
      "Spanish English Translator : 10,000,000+\n",
      "HTC Help : 10,000,000+\n",
      "Moon+ Reader : 10,000,000+\n",
      "English Dictionary - Offline : 10,000,000+\n",
      "Bible : 100,000,000+\n",
      "Aldiko Book Reader : 10,000,000+\n",
      "Al-Quran (Free) : 10,000,000+\n",
      "Al Quran Indonesia : 10,000,000+\n",
      "Al'Quran Bahasa Indonesia : 10,000,000+\n",
      "Quran for Android : 10,000,000+\n",
      "Audiobooks from Audible : 100,000,000+\n",
      "Dictionary.com: Find Definitions for English Words : 10,000,000+\n",
      "Dictionary : 10,000,000+\n",
      "JW Library : 10,000,000+\n",
      "English Hindi Dictionary : 10,000,000+\n"
     ]
    }
   ],
   "source": [
    "for row in final_clean_data_google:\n",
    "    app_name = row[0]\n",
    "    genre = row[1]\n",
    "    installs = row[5]\n",
    "    if genre == 'BOOKS_AND_REFERENCE' and (installs == '100,000,000+' or installs == '10,000,000+'):\n",
    "        print(app_name, ':', installs)"
   ]
  },
  {
   "cell_type": "markdown",
   "id": "9427bb5c",
   "metadata": {},
   "source": [
    "Looking through the apps within the 'BOOKS_AND_REFERENCE' genre, I've had to change the 'installs' parameter down to '100,000,000+' and lower because there were no apps within the '1,000,000,000+' or ''500,000,000+'. We can see that there are only 4 apps within '100,000,000+' installations, and the next threshold for installations that contains apps is '10,000,000+'. This seems a bit more promising because the market isn't dominated by a few single companies and there seems to be more variety. Having fewer apps in these large installation thresholds and having lower thresholds containing more of the apps means the market is more accessible. Dictionaries and relgious books seems to be the more popular types of books within this genre. Perhaps converting a relgious text to an ebook could be a plausible idea or creating a dictionary for popular lagnuage may also seem appealing to many."
   ]
  },
  {
   "cell_type": "markdown",
   "id": "c53aae89",
   "metadata": {},
   "source": []
  }
 ],
 "metadata": {
  "kernelspec": {
   "display_name": "Python 3 (ipykernel)",
   "language": "python",
   "name": "python3"
  },
  "language_info": {
   "codemirror_mode": {
    "name": "ipython",
    "version": 3
   },
   "file_extension": ".py",
   "mimetype": "text/x-python",
   "name": "python",
   "nbconvert_exporter": "python",
   "pygments_lexer": "ipython3",
   "version": "3.10.9"
  }
 },
 "nbformat": 4,
 "nbformat_minor": 5
}
